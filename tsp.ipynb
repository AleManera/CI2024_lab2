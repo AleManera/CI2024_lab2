{
 "cells": [
  {
   "cell_type": "code",
   "execution_count": 7,
   "metadata": {},
   "outputs": [],
   "source": [
    "import pandas as pd\n",
    "import math\n",
    "import numpy as np\n",
    "from geopy.distance import geodesic\n",
    "from tqdm import tqdm\n",
    "import random"
   ]
  },
  {
   "cell_type": "markdown",
   "metadata": {},
   "source": [
    "# **Solution**"
   ]
  },
  {
   "cell_type": "code",
   "execution_count": 8,
   "metadata": {},
   "outputs": [],
   "source": [
    "# Function to find the closest unvisited city using geodesic distance\n",
    "def find_closest_city(data, start_coord, visited_cities):\n",
    "    # Initialize variables to store the closest city\n",
    "    min_distance = float('inf')\n",
    "    closest_city = None\n",
    "    closest_city_coord = None\n",
    "    \n",
    "    # Loop through each city to calculate the geodesic distance\n",
    "    for index, row in data.iterrows():\n",
    "        city_name = row[0]\n",
    "        city_coord = (row[1], row[2])  \n",
    "        \n",
    "        # Skip the city if it's already visited\n",
    "        if city_name in visited_cities:\n",
    "            continue\n",
    "        \n",
    "        # Calculate geodesic distance between start_coord and city_coord\n",
    "        distance = geodesic(start_coord, city_coord).kilometers\n",
    "        \n",
    "        # Update the closest city if this one is closer\n",
    "        if distance < min_distance and distance != 0:\n",
    "            min_distance = distance\n",
    "            closest_city = city_name\n",
    "            closest_city_coord = city_coord\n",
    "    \n",
    "    return closest_city, closest_city_coord, min_distance\n",
    "    \n",
    "\n",
    "# Function to solve the TSP using geodesic distance and nearest neighbor\n",
    "def tsp_nearest_neighbor(data, start_city, start_city_coord):\n",
    "    \n",
    "    # Initialize visited cities array\n",
    "    visited_cities = []\n",
    "    \n",
    "    # Add starting city to the visited list\n",
    "    visited_cities.append(start_city)\n",
    "    \n",
    "    #print(f\"Starting city: {start_city}\")\n",
    "    \n",
    "    total_distance = 0\n",
    "    current_city_coord = start_city_coord\n",
    "    \n",
    "    # Loop until all cities are visited\n",
    "    with tqdm(total=len(data) - 1, desc=\"Visiting cities\") as pbar:\n",
    "        while len(visited_cities) < len(data):\n",
    "            # Find the closest unvisited city\n",
    "            closest_city, closest_city_coord, min_distance = find_closest_city(data, current_city_coord, visited_cities)\n",
    "            \n",
    "            # Add the closest city to the visited cities array\n",
    "            visited_cities.append(closest_city)\n",
    "            \n",
    "            # Update the current city coordinates to the new closest city's coordinates\n",
    "            current_city_coord = closest_city_coord\n",
    "            \n",
    "            # Accumulate the total distance\n",
    "            total_distance += min_distance\n",
    "            \n",
    "            #print(f\"Travels to {closest_city} with a distance of {min_distance:.2f} km\")\n",
    "            \n",
    "            # Update the progress bar\n",
    "            pbar.update(1)\n",
    "    \n",
    "    # Return to the start city to complete the loop\n",
    "    return_to_start_distance = geodesic(current_city_coord, start_city_coord).kilometers\n",
    "    total_distance += return_to_start_distance\n",
    "    visited_cities.append(start_city)  # Add the starting city at the end to close the loop\n",
    "    \n",
    "    #print(f\"Returning to {start_city} with a distance of {return_to_start_distance:.2f} km\")\n",
    "    \n",
    "    return visited_cities, total_distance"
   ]
  },
  {
   "cell_type": "code",
   "execution_count": 9,
   "metadata": {},
   "outputs": [],
   "source": [
    "# Import CSV file\n",
    "def import_cities(filename):\n",
    "    return pd.read_csv(filename)\n",
    "\n",
    "# Choose a random starting city\n",
    "def choose_random_city(data):\n",
    "    random_index = np.random.choice(data.index)\n",
    "    city_name = data.iloc[random_index][0]\n",
    "    city_coord = (data.iloc[random_index][1], data.iloc[random_index][2])  \n",
    "    return city_name, city_coord"
   ]
  },
  {
   "cell_type": "code",
   "execution_count": 11,
   "metadata": {},
   "outputs": [
    {
     "name": "stderr",
     "output_type": "stream",
     "text": [
      "/var/folders/pk/xy069ymn5cvb593dr0d4zmgh0000gn/T/ipykernel_36422/1238140414.py:8: FutureWarning: Series.__getitem__ treating keys as positions is deprecated. In a future version, integer keys will always be treated as labels (consistent with DataFrame behavior). To access a value by position, use `ser.iloc[pos]`\n",
      "  city_name = data.iloc[random_index][0]\n",
      "/var/folders/pk/xy069ymn5cvb593dr0d4zmgh0000gn/T/ipykernel_36422/1238140414.py:9: FutureWarning: Series.__getitem__ treating keys as positions is deprecated. In a future version, integer keys will always be treated as labels (consistent with DataFrame behavior). To access a value by position, use `ser.iloc[pos]`\n",
      "  city_coord = (data.iloc[random_index][1], data.iloc[random_index][2])\n"
     ]
    }
   ],
   "source": [
    "#data = import_cities('vanuatu.csv')\n",
    "data = import_cities('italy.csv')\n",
    "#data = import_cities('us.csv')\n",
    "#data = import_cities('russia.csv')\n",
    "#data = import_cities('china.csv')\n",
    "start_city, start_city_coord = choose_random_city(data)"
   ]
  },
  {
   "cell_type": "code",
   "execution_count": 12,
   "metadata": {},
   "outputs": [
    {
     "name": "stderr",
     "output_type": "stream",
     "text": [
      "Visiting cities:   0%|          | 0/44 [00:00<?, ?it/s]/var/folders/pk/xy069ymn5cvb593dr0d4zmgh0000gn/T/ipykernel_36422/571662069.py:10: FutureWarning: Series.__getitem__ treating keys as positions is deprecated. In a future version, integer keys will always be treated as labels (consistent with DataFrame behavior). To access a value by position, use `ser.iloc[pos]`\n",
      "  city_name = row[0]\n",
      "/var/folders/pk/xy069ymn5cvb593dr0d4zmgh0000gn/T/ipykernel_36422/571662069.py:11: FutureWarning: Series.__getitem__ treating keys as positions is deprecated. In a future version, integer keys will always be treated as labels (consistent with DataFrame behavior). To access a value by position, use `ser.iloc[pos]`\n",
      "  city_coord = (row[1], row[2])\n",
      "Visiting cities: 100%|██████████| 44/44 [00:00<00:00, 196.02it/s]"
     ]
    },
    {
     "name": "stdout",
     "output_type": "stream",
     "text": [
      "------------------------------------------------------------\n",
      "Total distance traveled: 5032.95 km\n",
      "Travel order: Foggia -> Andria -> Bari -> Taranto -> Salerno -> Naples -> Giugliano in Campania -> Latina -> Rome -> Terni -> Perugia -> Rimini -> Forlì -> Ravenna -> Ferrara -> Bologna -> Modena -> Reggio nell'Emilia -> Parma -> Piacenza -> Milan -> Monza -> Bergamo -> Brescia -> Verona -> Vicenza -> Padua -> Venice -> Trieste -> Bolzano -> Trento -> Novara -> Turin -> Genoa -> Leghorn -> Prato -> Florence -> Pescara -> Palermo -> Catania -> Syracuse -> Reggio di Calabria -> Messina -> Cagliari -> Sassari -> Foggia\n"
     ]
    },
    {
     "name": "stderr",
     "output_type": "stream",
     "text": [
      "\n"
     ]
    }
   ],
   "source": [
    "# print of solution\n",
    "visited_cities, total_distance = tsp_nearest_neighbor(data, start_city, start_city_coord)\n",
    "print('------------------------------------------------------------')\n",
    "print(f\"Total distance traveled: {total_distance:.2f} km\")\n",
    "travel_order = \" -> \".join(visited_cities)\n",
    "print(f\"Travel order: {travel_order}\")"
   ]
  }
 ],
 "metadata": {
  "kernelspec": {
   "display_name": "3.9.8",
   "language": "python",
   "name": "python3"
  },
  "language_info": {
   "codemirror_mode": {
    "name": "ipython",
    "version": 3
   },
   "file_extension": ".py",
   "mimetype": "text/x-python",
   "name": "python",
   "nbconvert_exporter": "python",
   "pygments_lexer": "ipython3",
   "version": "3.9.8"
  }
 },
 "nbformat": 4,
 "nbformat_minor": 2
}
