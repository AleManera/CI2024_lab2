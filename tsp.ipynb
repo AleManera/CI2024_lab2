{
 "cells": [
  {
   "cell_type": "code",
   "execution_count": 44,
   "metadata": {},
   "outputs": [],
   "source": [
    "import pandas as pd\n",
    "import math\n",
    "import numpy as np\n",
    "from geopy.distance import geodesic\n",
    "from itertools import combinations\n",
    "from tqdm import tqdm\n",
    "import random"
   ]
  },
  {
   "cell_type": "markdown",
   "metadata": {},
   "source": [
    "# **Solution**"
   ]
  },
  {
   "cell_type": "code",
   "execution_count": 45,
   "metadata": {},
   "outputs": [],
   "source": [
    "# Function to find the closest unvisited city using geodesic distance\n",
    "def find_closest_city(data, start_coord, visited_cities):\n",
    "    # Initialize variables to store the closest city\n",
    "    min_distance = float('inf')\n",
    "    closest_city = None\n",
    "    closest_city_coord = None\n",
    "    \n",
    "    # Loop through each city to calculate the geodesic distance\n",
    "    for index, row in data.iterrows():\n",
    "        city_name = row[0]\n",
    "        city_coord = (row[1], row[2])  \n",
    "        \n",
    "        # Skip the city if it's already visited\n",
    "        if city_name in visited_cities:\n",
    "            continue\n",
    "        \n",
    "        # Calculate geodesic distance between start_coord and city_coord\n",
    "        distance = geodesic(start_coord, city_coord).kilometers\n",
    "        \n",
    "        # Update the closest city if this one is closer\n",
    "        if distance < min_distance and distance != 0:\n",
    "            min_distance = distance\n",
    "            closest_city = city_name\n",
    "            closest_city_coord = city_coord\n",
    "    \n",
    "    return closest_city, closest_city_coord, min_distance\n",
    "    \n",
    "\n",
    "# Function to solve the TSP using geodesic distance and nearest neighbor\n",
    "def tsp_nearest_neighbor(data, start_city, start_city_coord):\n",
    "    \n",
    "    # Initialize visited cities array\n",
    "    visited_cities = []\n",
    "    \n",
    "    # Add starting city to the visited list\n",
    "    visited_cities.append(start_city)\n",
    "    \n",
    "    #print(f\"Starting city: {start_city}\")\n",
    "    \n",
    "    total_distance = 0\n",
    "    current_city_coord = start_city_coord\n",
    "    \n",
    "    # Loop until all cities are visited\n",
    "    with tqdm(total=len(data) - 1, desc=\"Visiting cities\") as pbar:\n",
    "        while len(visited_cities) < len(data):\n",
    "            # Find the closest unvisited city\n",
    "            closest_city, closest_city_coord, min_distance = find_closest_city(data, current_city_coord, visited_cities)\n",
    "            \n",
    "            # Add the closest city to the visited cities array\n",
    "            visited_cities.append(closest_city)\n",
    "            \n",
    "            # Update the current city coordinates to the new closest city's coordinates\n",
    "            current_city_coord = closest_city_coord\n",
    "            \n",
    "            # Accumulate the total distance\n",
    "            total_distance += min_distance\n",
    "            \n",
    "            #print(f\"Travels to {closest_city} with a distance of {min_distance:.2f} km\")\n",
    "            \n",
    "            # Update the progress bar\n",
    "            pbar.update(1)\n",
    "    \n",
    "    # Return to the start city to complete the loop\n",
    "    return_to_start_distance = geodesic(current_city_coord, start_city_coord).kilometers\n",
    "    total_distance += return_to_start_distance\n",
    "    visited_cities.append(start_city)  # Add the starting city at the end to close the loop\n",
    "    \n",
    "    #print(f\"Returning to {start_city} with a distance of {return_to_start_distance:.2f} km\")\n",
    "    \n",
    "    return visited_cities, total_distance"
   ]
  },
  {
   "cell_type": "code",
   "execution_count": 66,
   "metadata": {},
   "outputs": [],
   "source": [
    "# Import CSV file\n",
    "def import_cities(filename):\n",
    "    return pd.read_csv(filename)\n",
    "\n",
    "# Choose a random starting city\n",
    "def choose_random_city(data):\n",
    "    random_index = np.random.choice(data.index)\n",
    "    city_name = data.iloc[random_index][0]\n",
    "    city_coord = (data.iloc[random_index][1], data.iloc[random_index][2])  \n",
    "    return city_name, city_coord"
   ]
  },
  {
   "cell_type": "code",
   "execution_count": null,
   "metadata": {},
   "outputs": [
    {
     "name": "stderr",
     "output_type": "stream",
     "text": [
      "/var/folders/pk/xy069ymn5cvb593dr0d4zmgh0000gn/T/ipykernel_58327/1238140414.py:8: FutureWarning: Series.__getitem__ treating keys as positions is deprecated. In a future version, integer keys will always be treated as labels (consistent with DataFrame behavior). To access a value by position, use `ser.iloc[pos]`\n",
      "  city_name = data.iloc[random_index][0]\n",
      "/var/folders/pk/xy069ymn5cvb593dr0d4zmgh0000gn/T/ipykernel_58327/1238140414.py:9: FutureWarning: Series.__getitem__ treating keys as positions is deprecated. In a future version, integer keys will always be treated as labels (consistent with DataFrame behavior). To access a value by position, use `ser.iloc[pos]`\n",
      "  city_coord = (data.iloc[random_index][1], data.iloc[random_index][2])\n"
     ]
    }
   ],
   "source": [
    "#data = import_cities('vanuatu.csv')\n",
    "#data = import_cities('italy.csv')\n",
    "#data = import_cities('us.csv')\n",
    "#data = import_cities('russia.csv')\n",
    "data = import_cities('china.csv')\n",
    "start_city, start_city_coord = choose_random_city(data)"
   ]
  },
  {
   "cell_type": "code",
   "execution_count": 72,
   "metadata": {},
   "outputs": [
    {
     "name": "stderr",
     "output_type": "stream",
     "text": [
      "Visiting cities:   0%|          | 0/165 [00:00<?, ?it/s]/var/folders/pk/xy069ymn5cvb593dr0d4zmgh0000gn/T/ipykernel_58327/571662069.py:10: FutureWarning: Series.__getitem__ treating keys as positions is deprecated. In a future version, integer keys will always be treated as labels (consistent with DataFrame behavior). To access a value by position, use `ser.iloc[pos]`\n",
      "  city_name = row[0]\n",
      "/var/folders/pk/xy069ymn5cvb593dr0d4zmgh0000gn/T/ipykernel_58327/571662069.py:11: FutureWarning: Series.__getitem__ treating keys as positions is deprecated. In a future version, integer keys will always be treated as labels (consistent with DataFrame behavior). To access a value by position, use `ser.iloc[pos]`\n",
      "  city_coord = (row[1], row[2])\n",
      "Visiting cities: 100%|██████████| 165/165 [00:02<00:00, 61.13it/s] "
     ]
    },
    {
     "name": "stdout",
     "output_type": "stream",
     "text": [
      "------------------------------------------------------------\n",
      "Total distance traveled: 42152.87 km\n",
      "Travel order: Miass -> Zlatoust -> Chelyabinsk -> Kopeysk -> Kamensk‐Uralskiy -> Yekaterinburg -> Pervouralsk -> Nizhniy Tagil -> Perm -> Berezniki -> Izhevsk -> Neftekamsk -> Naberezhnye Chelny -> Nizhnekamsk -> Almetyevsk -> Oktyabrskiy -> Ufa -> Sterlitamak -> Salavat -> Orenberg -> Orenburg -> Novotroitsk -> Orsk -> Magnitogorsk -> Kurgan -> Tyumen -> Tobolsk -> Nefteyugansk -> Surgut -> Nizhnevartovsk -> Noyabrsk -> Novyy Urengoy -> Norilsk -> Seversk -> Tomsk -> Kemerovo -> Leninsk‐Kuznetskiy -> Prokopyevsk -> Novokuznetsk -> Biysk -> Barnaul -> Novosibirsk -> Rubtsovsk -> Omsk -> Achinsk -> Krasnoyarsk -> Kyzyl -> Angarsk -> Irkutsk -> Ulan‐Ude -> Chita -> Bratsk -> Yakutsk -> Magadan -> Petropavlovsk‐Kamchatskiy -> Yuzhno‐Sakhalinsk -> Komsomolsk‐na‐Amure -> Khabarovsk -> Ussuriysk -> Artyom -> Vladivostok -> Nakhodka -> Blagoveshchensk -> Syktyvkar -> Kirov -> Yoshkar‐Ola -> Novocheboksarsk -> Cheboksary -> Kazan -> Ulyanovsk -> Dimitrovgrad -> Tolyatti -> Novokuybyshevsk -> Samara -> Syzran -> Balakovo -> Engels -> Saratov -> Kamyshin -> Volzhskiy -> Volgograd -> Volgodonsk -> Shakhty -> Novoshakhtinsk -> Novocherkassk -> Rostov‐na‐Donu -> Bataysk -> Taganrog -> Krasnodar -> Maykop -> Armavir -> Stavropol -> Nevinnomyssk -> Cherkessk -> Kislovodsk -> Pyatigorsk -> Nalchik -> Vladikavkaz -> Nazran -> Groznyy -> Khasavyurt -> Makhachkala -> Kaspiysk -> Derbent -> Astrakhan -> Elista -> Sochi -> Novorossiysk -> Belgorod -> Staryy Oskol -> Voronezh -> Lipetsk -> Yelets -> Novomoskovsk -> Tula -> Serpukhov -> Obninsk -> Kaluga -> Podolsk -> Odintsovo -> Moscow -> Mytishchi -> Korolyov -> Shchyolkovo -> Balashikha -> Zheleznodorozhnyy -> Lyubertsy -> Zhukovskiy -> Elektrostal -> Noginsk -> Orekhovo‐Zuevo -> Sergiyev Posad -> Khimki -> Zelenograd -> Tver -> Rybinsk -> Yaroslavl -> Kostroma -> Ivanovo -> Kovrov -> Vladimir -> Murom -> Arzamas -> Dzerzhinsk -> Nizhny Novgorod -> Saransk -> Penza -> Tambov -> Ryazan -> Kolomna -> Oryol -> Bryansk -> Kursk -> Smolensk -> Velikie Luki -> Pskov -> Velikiy Novgorod -> Kolpino -> Saint Petersburg -> Petrozavodsk -> Cherepovets -> Vologda -> Severodvinsk -> Arkhangelsk -> Murmansk -> Kaliningrad -> Miass\n"
     ]
    },
    {
     "name": "stderr",
     "output_type": "stream",
     "text": [
      "\n"
     ]
    }
   ],
   "source": [
    "# print of solution\n",
    "visited_cities, total_distance = tsp_nearest_neighbor(data, start_city, start_city_coord)\n",
    "print('------------------------------------------------------------')\n",
    "print(f\"Total distance traveled: {total_distance:.2f} km\")\n",
    "travel_order = \" -> \".join(visited_cities)\n",
    "print(f\"Travel order: {travel_order}\")"
   ]
  },
  {
   "cell_type": "markdown",
   "metadata": {},
   "source": [
    "## Genetic algorithm "
   ]
  },
  {
   "cell_type": "code",
   "execution_count": 62,
   "metadata": {},
   "outputs": [],
   "source": [
    "#filepath = 'italy.csv'\n",
    "#filepath = 'us.csv'\n",
    "#filepath = 'russia.csv'\n",
    "#filepath = 'china.csv'\n",
    "filepath = 'vanuatu.csv'\n",
    "\n",
    "\n",
    "CITIES = pd.read_csv(filepath, header=None, names=['name', 'lat', 'lon'])\n",
    "DIST_MATRIX = np.zeros((len(CITIES), len(CITIES)))\n",
    "for c1, c2 in combinations(CITIES.itertuples(), 2):\n",
    "    DIST_MATRIX[c1.Index, c2.Index] = DIST_MATRIX[c2.Index, c1.Index] = geodesic(\n",
    "        (c1.lat, c1.lon), (c2.lat, c2.lon)\n",
    "    ).km\n",
    "#CITIES.head()"
   ]
  },
  {
   "cell_type": "code",
   "execution_count": 63,
   "metadata": {},
   "outputs": [],
   "source": [
    "def tsp_cost(tsp):\n",
    "    assert tsp[0] == tsp[-1]\n",
    "    assert set(tsp) == set(range(len(CITIES)))\n",
    "\n",
    "    tot_cost = 0\n",
    "    for c1, c2 in zip(tsp, tsp[1:]):\n",
    "        tot_cost += DIST_MATRIX[c1, c2]\n",
    "    return tot_cost\n",
    "\n",
    "class Individual:\n",
    "    def __init__(self, genome):\n",
    "        self.genome = genome\n",
    "        self.fitness = -tsp_cost(genome)  \n",
    "\n",
    "#Parent selection\n",
    "def parent_selection(population):\n",
    "    candidates = sorted(random.sample(population, 3), key=lambda e: e.fitness, reverse=True)\n",
    "    return candidates[0]\n",
    "\n",
    "#Crossover \n",
    "def crossover(p1: Individual, p2: Individual):\n",
    "    start, end = sorted(random.sample(range(1, len(CITIES)), 2))\n",
    "    \n",
    "    #PMX crossover\n",
    "    child_genome = [None] * len(CITIES)\n",
    "    child_genome[start:end] = p1.genome[start:end]\n",
    "\n",
    "    p2_pointer = 0\n",
    "    for i in range(len(CITIES)):\n",
    "        if child_genome[i] is None:\n",
    "            while p2.genome[p2_pointer] in child_genome:\n",
    "                p2_pointer += 1\n",
    "            child_genome[i] = p2.genome[p2_pointer]\n",
    "\n",
    "    child_genome.append(child_genome[0])\n",
    "\n",
    "    return Individual(child_genome)\n",
    "\n",
    "#Mutation\n",
    "def mutation(p: Individual):\n",
    "    genome = p.genome.copy()\n",
    "\n",
    "    points = sorted(random.sample(range(1, len(genome) - 1), random.randint(3, 5)))\n",
    "    segments = [genome[points[i]:points[i + 1]] for i in range(len(points) - 1)]\n",
    "   \n",
    "    inverted_segments = [seg[::-1] if random.random() < 0.5 else seg for seg in segments]\n",
    "    new_genome = genome[:points[0]] + sum(inverted_segments, []) + genome[points[-1]:]\n",
    "\n",
    "    return Individual(new_genome)"
   ]
  },
  {
   "cell_type": "code",
   "execution_count": 64,
   "metadata": {},
   "outputs": [],
   "source": [
    "def greedy_nearest_neighbor():\n",
    "    visited = np.full(len(CITIES), False)\n",
    "    dist = DIST_MATRIX.copy()\n",
    "    city = 0\n",
    "    visited[city] = True\n",
    "    tsp = list()\n",
    "    tsp.append(int(city))\n",
    "    while not np.all(visited):\n",
    "        dist[:, city] = np.inf\n",
    "        closest = np.argmin(dist[city])\n",
    "        visited[closest] = True\n",
    "        city = closest\n",
    "        tsp.append(int(city))\n",
    "    tsp.append(tsp[0])\n",
    "    return Individual(tsp)"
   ]
  },
  {
   "cell_type": "code",
   "execution_count": 65,
   "metadata": {},
   "outputs": [
    {
     "name": "stdout",
     "output_type": "stream",
     "text": [
      "Generation 0: Cost of the best route: 1396.31 km\n",
      "Generation 10000: Cost of the best route: 1345.54 km\n",
      "Generation 20000: Cost of the best route: 1345.54 km\n",
      "Generation 30000: Cost of the best route: 1345.54 km\n",
      "Generation 40000: Cost of the best route: 1345.54 km\n",
      "Generation 50000: Cost of the best route: 1345.54 km\n",
      "Generation 60000: Cost of the best route: 1345.54 km\n",
      "Generation 70000: Cost of the best route: 1345.54 km\n",
      "Generation 80000: Cost of the best route: 1345.54 km\n",
      "Generation 90000: Cost of the best route: 1345.54 km\n",
      "Generation 100000: Cost of the best route: 1345.54 km\n",
      "Generation 110000: Cost of the best route: 1345.54 km\n",
      "Generation 120000: Cost of the best route: 1345.54 km\n",
      "Generation 130000: Cost of the best route: 1345.54 km\n",
      "Generation 140000: Cost of the best route: 1345.54 km\n"
     ]
    },
    {
     "name": "stderr",
     "output_type": "stream",
     "text": [
      "/var/folders/pk/xy069ymn5cvb593dr0d4zmgh0000gn/T/ipykernel_58327/541863820.py:38: RuntimeWarning: overflow encountered in scalar divide\n",
      "  if delta_fitness > 0 or random.random() < np.exp(delta_fitness / temperature):\n"
     ]
    },
    {
     "name": "stdout",
     "output_type": "stream",
     "text": [
      "Generation 150000: Cost of the best route: 1345.54 km\n",
      "Generation 160000: Cost of the best route: 1345.54 km\n",
      "Generation 170000: Cost of the best route: 1345.54 km\n",
      "Generation 180000: Cost of the best route: 1345.54 km\n",
      "Generation 190000: Cost of the best route: 1345.54 km\n",
      "Best route found: [2, 0, 7, 1, 4, 3, 5, 6, 2]\n",
      "Cost of the best route: 1345.54 km\n"
     ]
    }
   ],
   "source": [
    "POPULATION_SIZE = 100  \n",
    "OFFSPRING_SIZE = 20   \n",
    "\n",
    "#Population initialization of initial paths found with greedy methods\n",
    "population = [greedy_nearest_neighbor()]\n",
    "#Added random individuals to complete the population\n",
    "for _ in range(POPULATION_SIZE - len(population)):\n",
    "    random_path = list(range(len(CITIES)))\n",
    "    random.shuffle(random_path)\n",
    "    random_path.append(random_path[0])  \n",
    "    population.append(Individual(random_path))\n",
    "\n",
    "def evolve(population, generations=200_000, mutation_rate=0.3, initial_temperature=10_000.0, cooling_rate=0.995, stagnation_limit=5_000, adaptive_increase=0.1):\n",
    "    best_path = max(population, key=lambda ind: ind.fitness)\n",
    "    current_best = best_path\n",
    "    temperature = initial_temperature\n",
    "    stagnation_counter = 0  \n",
    "    base_mutation_rate = mutation_rate  \n",
    "    history = []  \n",
    "    \n",
    "    for generation in range(generations):\n",
    "        offspring = []\n",
    "        for _ in range(OFFSPRING_SIZE):\n",
    "            if random.random() < mutation_rate:\n",
    "                parent = parent_selection(population)\n",
    "                child = mutation(parent)\n",
    "            else:\n",
    "                parent1 = parent_selection(population)\n",
    "                parent2 = parent_selection(population)\n",
    "                child = crossover(parent1, parent2)\n",
    "            offspring.append(child)\n",
    "\n",
    "        improved = False\n",
    "        for child in offspring:\n",
    "            child.fitness = -tsp_cost(child.genome)\n",
    "            delta_fitness = child.fitness - current_best.fitness\n",
    "\n",
    "            if delta_fitness > 0 or random.random() < np.exp(delta_fitness / temperature):\n",
    "                current_best = child\n",
    "                if child.fitness > best_path.fitness:\n",
    "                    best_path = child\n",
    "                    improved = True\n",
    "                    stagnation_counter = 0\n",
    "        \n",
    "        if not improved:\n",
    "            stagnation_counter +=1\n",
    "        \n",
    "        if stagnation_counter >= stagnation_limit:\n",
    "            mutation_rate = min(1.0, mutation_rate + adaptive_increase)\n",
    "\n",
    "        if improved: \n",
    "            mutation_rate = base_mutation_rate\n",
    "\n",
    "        population.extend(offspring)\n",
    "        population.sort(key=lambda ind: ind.fitness, reverse=True)\n",
    "        population = population[:POPULATION_SIZE]\n",
    "\n",
    "        temperature *= cooling_rate\n",
    "        \n",
    "        history.append(-best_path.fitness)\n",
    "\n",
    "        if generation % 10_000 == 0:\n",
    "            print(f\"Generation {generation}: Cost of the best route: {-best_path.fitness:.2f} km\")\n",
    "            random_path = list(range(len(CITIES)))\n",
    "            random.shuffle(random_path)\n",
    "            random_path.append(random_path[0]) \n",
    "            population.append(Individual(random_path))\n",
    "    \n",
    "    return best_path, history\n",
    "\n",
    "best_path, history = evolve(population)\n",
    "\n",
    "\n",
    "print(f\"Best route found: {best_path.genome}\")\n",
    "print(f\"Cost of the best route: {tsp_cost(best_path.genome):.2f} km\")"
   ]
  }
 ],
 "metadata": {
  "kernelspec": {
   "display_name": "3.9.8",
   "language": "python",
   "name": "python3"
  },
  "language_info": {
   "codemirror_mode": {
    "name": "ipython",
    "version": 3
   },
   "file_extension": ".py",
   "mimetype": "text/x-python",
   "name": "python",
   "nbconvert_exporter": "python",
   "pygments_lexer": "ipython3",
   "version": "3.9.8"
  }
 },
 "nbformat": 4,
 "nbformat_minor": 2
}
