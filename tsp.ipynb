{
 "cells": [
  {
   "cell_type": "code",
   "execution_count": 7,
   "metadata": {},
   "outputs": [
    {
     "ename": "ModuleNotFoundError",
     "evalue": "No module named 'pandas'",
     "output_type": "error",
     "traceback": [
      "\u001b[0;31m---------------------------------------------------------------------------\u001b[0m",
      "\u001b[0;31mModuleNotFoundError\u001b[0m                       Traceback (most recent call last)",
      "Cell \u001b[0;32mIn[7], line 1\u001b[0m\n\u001b[0;32m----> 1\u001b[0m \u001b[38;5;28;01mimport\u001b[39;00m \u001b[38;5;21;01mpandas\u001b[39;00m \u001b[38;5;28;01mas\u001b[39;00m \u001b[38;5;21;01mpd\u001b[39;00m\n\u001b[1;32m      2\u001b[0m \u001b[38;5;28;01mimport\u001b[39;00m \u001b[38;5;21;01mmath\u001b[39;00m\n\u001b[1;32m      3\u001b[0m \u001b[38;5;28;01mimport\u001b[39;00m \u001b[38;5;21;01mnumpy\u001b[39;00m \u001b[38;5;28;01mas\u001b[39;00m \u001b[38;5;21;01mnp\u001b[39;00m\n",
      "\u001b[0;31mModuleNotFoundError\u001b[0m: No module named 'pandas'"
     ]
    }
   ],
   "source": [
    "import pandas as pd\n",
    "import math\n",
    "import numpy as np\n",
    "from geopy.distance import geodesic\n",
    "from tqdm import tqdm\n",
    "import random"
   ]
  },
  {
   "cell_type": "markdown",
   "metadata": {},
   "source": [
    "# **Solution**"
   ]
  },
  {
   "cell_type": "code",
   "execution_count": null,
   "metadata": {},
   "outputs": [],
   "source": [
    "# Function to find the closest unvisited city using geodesic distance\n",
    "def find_closest_city(data, start_coord, visited_cities):\n",
    "    # Initialize variables to store the closest city\n",
    "    min_distance = float('inf')\n",
    "    closest_city = None\n",
    "    closest_city_coord = None\n",
    "    \n",
    "    # Loop through each city to calculate the geodesic distance\n",
    "    for index, row in data.iterrows():\n",
    "        city_name = row[0]\n",
    "        city_coord = (row[1], row[2])  \n",
    "        \n",
    "        # Skip the city if it's already visited\n",
    "        if city_name in visited_cities:\n",
    "            continue\n",
    "        \n",
    "        # Calculate geodesic distance between start_coord and city_coord\n",
    "        distance = geodesic(start_coord, city_coord).kilometers\n",
    "        \n",
    "        # Update the closest city if this one is closer\n",
    "        if distance < min_distance and distance != 0:\n",
    "            min_distance = distance\n",
    "            closest_city = city_name\n",
    "            closest_city_coord = city_coord\n",
    "    \n",
    "    return closest_city, closest_city_coord, min_distance\n",
    "    \n",
    "\n",
    "# Function to solve the TSP using geodesic distance and nearest neighbor\n",
    "def tsp_nearest_neighbor(data, start_city, start_city_coord):\n",
    "    \n",
    "    # Initialize visited cities array\n",
    "    visited_cities = []\n",
    "    \n",
    "    # Add starting city to the visited list\n",
    "    visited_cities.append(start_city)\n",
    "    \n",
    "    #print(f\"Starting city: {start_city}\")\n",
    "    \n",
    "    total_distance = 0\n",
    "    current_city_coord = start_city_coord\n",
    "    \n",
    "    # Loop until all cities are visited\n",
    "    with tqdm(total=len(data) - 1, desc=\"Visiting cities\") as pbar:\n",
    "        while len(visited_cities) < len(data):\n",
    "            # Find the closest unvisited city\n",
    "            closest_city, closest_city_coord, min_distance = find_closest_city(data, current_city_coord, visited_cities)\n",
    "            \n",
    "            # Add the closest city to the visited cities array\n",
    "            visited_cities.append(closest_city)\n",
    "            \n",
    "            # Update the current city coordinates to the new closest city's coordinates\n",
    "            current_city_coord = closest_city_coord\n",
    "            \n",
    "            # Accumulate the total distance\n",
    "            total_distance += min_distance\n",
    "            \n",
    "            #print(f\"Travels to {closest_city} with a distance of {min_distance:.2f} km\")\n",
    "            \n",
    "            # Update the progress bar\n",
    "            pbar.update(1)\n",
    "    \n",
    "    # Return to the start city to complete the loop\n",
    "    return_to_start_distance = geodesic(current_city_coord, start_city_coord).kilometers\n",
    "    total_distance += return_to_start_distance\n",
    "    visited_cities.append(start_city)  # Add the starting city at the end to close the loop\n",
    "    \n",
    "    #print(f\"Returning to {start_city} with a distance of {return_to_start_distance:.2f} km\")\n",
    "    \n",
    "    return visited_cities, total_distance"
   ]
  },
  {
   "cell_type": "code",
   "execution_count": null,
   "metadata": {},
   "outputs": [],
   "source": [
    "# Import CSV file\n",
    "def import_cities(filename):\n",
    "    return pd.read_csv(filename)\n",
    "\n",
    "# Choose a random starting city\n",
    "def choose_random_city(data):\n",
    "    random_index = np.random.choice(data.index)\n",
    "    city_name = data.iloc[random_index][0]\n",
    "    city_coord = (data.iloc[random_index][1], data.iloc[random_index][2])  \n",
    "    return city_name, city_coord"
   ]
  },
  {
   "cell_type": "code",
   "execution_count": null,
   "metadata": {},
   "outputs": [],
   "source": [
    "#data = import_cities('vanuatu.csv')\n",
    "data = import_cities('italy.csv')\n",
    "#data = import_cities('us.csv')\n",
    "#data = import_cities('russia.csv')\n",
    "#data = import_cities('china.csv')\n",
    "start_city, start_city_coord = choose_random_city(data)"
   ]
  },
  {
   "cell_type": "code",
   "execution_count": null,
   "metadata": {},
   "outputs": [],
   "source": [
    "# print of solution\n",
    "visited_cities, total_distance = tsp_nearest_neighbor(data, start_city, start_city_coord)\n",
    "print('------------------------------------------------------------')\n",
    "print(f\"Total distance traveled: {total_distance:.2f} km\")\n",
    "travel_order = \" -> \".join(visited_cities)\n",
    "print(f\"Travel order: {travel_order}\")"
   ]
  }
 ],
 "metadata": {
  "kernelspec": {
   "display_name": "3.9.8",
   "language": "python",
   "name": "python3"
  },
  "language_info": {
   "codemirror_mode": {
    "name": "ipython",
    "version": 3
   },
   "file_extension": ".py",
   "mimetype": "text/x-python",
   "name": "python",
   "nbconvert_exporter": "python",
   "pygments_lexer": "ipython3",
   "version": "3.9.8"
  }
 },
 "nbformat": 4,
 "nbformat_minor": 2
}
